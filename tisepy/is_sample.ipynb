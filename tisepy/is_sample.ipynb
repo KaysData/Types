{
 "cells": [
  {
   "cell_type": "code",
   "execution_count": null,
   "metadata": {},
   "outputs": [],
   "source": [
    "# is sample"
   ]
  },
  {
   "cell_type": "code",
   "execution_count": null,
   "metadata": {},
   "outputs": [],
   "source": [
    "function (data, lambda, offset) \n",
    "{\n",
    "    inst.freq = function(lambda, time, Gfreq) {\n",
    "        if (lambda == 0) \n",
    "            infreq = 1/(time * (Gfreq - 1))\n",
    "        else infreq = 1/((time^lambda + lambda/Gfreq)^(1/lambda) - \n",
    "            time)\n",
    "        return(infreq)\n",
    "    }\n",
    "    h.value.wge <- function(n, shift, lambda, m = n) {\n",
    "        if (lambda == 0) \n",
    "            temp <- ((shift + n)/(shift + 1))^(1/(m - 1))\n",
    "        else temp <- (((shift + n)^lambda - (shift + 1)^lambda)/((m - \n",
    "            1) * lambda))\n",
    "        return(temp)\n",
    "    }\n",
    "    xlab = \"Time\"\n",
    "    ylab = \"Frequency\"\n",
    "    shift = offset\n",
    "    dual.data = trans.to.dual.wge(data, lambda = lambda, offset = offset, \n",
    "        h = 0, plot = FALSE)\n",
    "    pdgm = spec.pgram(dual.data$intY, taper = 0, plot = FALSE)\n",
    "    per = 10 * log10(pdgm$spec)\n",
    "    per = per - min(per)\n",
    "    h = h.value.wge(n = length(data), shift = shift, lambda = lambda)\n",
    "    t.max = length(data)\n",
    "    if (lambda == 0) \n",
    "        Gfreq = h^(1/pdgm$freq)\n",
    "    else Gfreq = pdgm$freq/h\n",
    "    Gspec = per\n",
    "    row.number = t.max * length(Gfreq)\n",
    "    plot.matrix = matrix(0, row.number, 4)\n",
    "    plot.matrix[, 1] = rep(seq(shift + 1, shift + t.max), rep(length(Gfreq), \n",
    "        t.max))\n",
    "    plot.matrix[, 2] = rep(Gfreq, t.max)\n",
    "    plot.matrix[, 4] = rep(Gspec, t.max)\n",
    "    plot.matrix[, 3] = mapply(inst.freq, lambda, plot.matrix[, \n",
    "        1], plot.matrix[, 2])\n",
    "    plot.matrix[, 1] = plot.matrix[, 1] - shift\n",
    "    par(mfrow = c(2, 2))\n",
    "    plot(plot.matrix[, 1], plot.matrix[, 3], ylim = c(0, 0.5), \n",
    "        pch = \".\", cex = 2, xlab = xlab, ylab = ylab, cex.lab = 1.5, \n",
    "        col = hcl(h = 260, c = 1, l = 100 * (1 - plot.matrix[, \n",
    "            4]/max(plot.matrix[, 4]))))\n",
    "}"
   ]
  }
 ],
 "metadata": {
  "kernelspec": {
   "display_name": "Python 3.7.7",
   "language": "python",
   "name": "python3"
  },
  "language_info": {
   "name": "python",
   "version": "3.7.7"
  },
  "orig_nbformat": 4,
  "vscode": {
   "interpreter": {
    "hash": "4522dcaa453d719a281551e00332217a79844fddb7475a63a7647ce33eed036a"
   }
  }
 },
 "nbformat": 4,
 "nbformat_minor": 2
}
