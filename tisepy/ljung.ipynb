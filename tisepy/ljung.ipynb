{
 "cells": [
  {
   "cell_type": "code",
   "execution_count": null,
   "metadata": {},
   "outputs": [],
   "source": [
    "# ljung box test"
   ]
  },
  {
   "cell_type": "code",
   "execution_count": null,
   "metadata": {},
   "outputs": [],
   "source": [
    "function (x, K = 24, p = 0, q = 0) \n",
    "{\n",
    "    cor <- acf(x, lag.max = K, plot = FALSE, na.action = na.pass)\n",
    "    n <- length(x)\n",
    "    df = K - p - q\n",
    "    obs <- cor$acf[2:(K + 1)]\n",
    "    cat(\"Obs\", obs, \"\\n\")\n",
    "    test <- \"Ljung-Box test\"\n",
    "    chi.square <- n * (n + 2) * sum(1/seq.int(n - 1, n - K) * \n",
    "        obs^2)\n",
    "    pval <- 1 - pchisq(chi.square, K - p - q)\n",
    "    out1 = list(test = test, K = K, chi.square = chi.square, \n",
    "        df = df, pval = pval)\n",
    "    return(out1)\n",
    "}"
   ]
  }
 ],
 "metadata": {
  "kernelspec": {
   "display_name": "Python 3.7.7",
   "language": "python",
   "name": "python3"
  },
  "language_info": {
   "name": "python",
   "version": "3.7.7"
  },
  "orig_nbformat": 4,
  "vscode": {
   "interpreter": {
    "hash": "4522dcaa453d719a281551e00332217a79844fddb7475a63a7647ce33eed036a"
   }
  }
 },
 "nbformat": 4,
 "nbformat_minor": 2
}
