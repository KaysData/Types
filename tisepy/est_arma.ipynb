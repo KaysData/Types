{
 "cells": [
  {
   "cell_type": "code",
   "execution_count": 1,
   "metadata": {},
   "outputs": [],
   "source": [
    "# est.arma"
   ]
  },
  {
   "cell_type": "code",
   "execution_count": 2,
   "metadata": {},
   "outputs": [
    {
     "ename": "SyntaxError",
     "evalue": "invalid syntax (<ipython-input-2-5ac67abb8e96>, line 3)",
     "output_type": "error",
     "traceback": [
      "\u001b[0;36m  File \u001b[0;32m\"<ipython-input-2-5ac67abb8e96>\"\u001b[0;36m, line \u001b[0;32m3\u001b[0m\n\u001b[0;31m    x = x - mean(x)\u001b[0m\n\u001b[0m      ^\u001b[0m\n\u001b[0;31mSyntaxError\u001b[0m\u001b[0;31m:\u001b[0m invalid syntax\n"
     ]
    }
   ],
   "source": [
    "\n",
    "function (x, p = 0, q = 0, factor = TRUE) \n",
    "{\n",
    "    x = x - mean(x)\n",
    "    w = getOption(\"warn\")\n",
    "    options(warn = -1)\n",
    "    a = arima(x, c(p, 0, q))\n",
    "    options(warn = w)\n",
    "    c = as.vector(coef(a))\n",
    "    v = as.vector(diag(vcov(a)))\n",
    "    if (p == 0) {\n",
    "        phi = 0\n",
    "        se.phi = 0\n",
    "    }\n",
    "    else {\n",
    "        phi = c[1:p]\n",
    "        se.phi = v[1:p]\n",
    "    }\n",
    "    if (q == 0) {\n",
    "        theta = 0\n",
    "        se.theta = 0\n",
    "    }\n",
    "    else {\n",
    "        theta = -c[(p + 1):(p + q)]\n",
    "        se.theta = v[(p + 1):(p + q)]\n",
    "    }\n",
    "    if (factor == TRUE & p > 0) {\n",
    "        factor.wge(phi = phi)\n",
    "    }\n",
    "    res = backcast.wge(x, phi = phi, theta = theta, n.back = 50)\n",
    "    avar = 0\n",
    "    n = length(x)\n",
    "    for (i in 1:n) {\n",
    "        avar = avar + res[i] * res[i]\n",
    "    }\n",
    "    avar = avar/n\n",
    "    aic = log(avar) + 2 * (p + q + 1)/n\n",
    "    bic = log(avar) + (p + q + 1) * log(n)/n\n",
    "    aicc = log(avar) + (n + p + q + 1)/(n - p - q - 3)\n",
    "    out1 = list(phi = phi, theta = theta, res = res, avar = avar, \n",
    "        aic = aic, aicc = aicc, bic = bic, se.phi = se.phi, se.theta = se.theta)\n",
    "    return(out1)\n",
    "}"
   ]
  },
  {
   "cell_type": "code",
   "execution_count": null,
   "metadata": {},
   "outputs": [],
   "source": []
  }
 ],
 "metadata": {
  "kernelspec": {
   "display_name": "Python 3.7.7",
   "language": "python",
   "name": "python3"
  },
  "language_info": {
   "codemirror_mode": {
    "name": "ipython",
    "version": 3
   },
   "file_extension": ".py",
   "mimetype": "text/x-python",
   "name": "python",
   "nbconvert_exporter": "python",
   "pygments_lexer": "ipython3",
   "version": "3.7.7"
  },
  "orig_nbformat": 4,
  "vscode": {
   "interpreter": {
    "hash": "4522dcaa453d719a281551e00332217a79844fddb7475a63a7647ce33eed036a"
   }
  }
 },
 "nbformat": 4,
 "nbformat_minor": 2
}
