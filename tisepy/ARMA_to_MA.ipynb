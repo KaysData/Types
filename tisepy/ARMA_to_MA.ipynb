{
 "cells": [
  {
   "cell_type": "code",
   "execution_count": null,
   "metadata": {},
   "outputs": [],
   "source": [
    "# ARMA_to_MA"
   ]
  },
  {
   "cell_type": "code",
   "execution_count": null,
   "metadata": {},
   "outputs": [],
   "source": [
    "def ARMAtoMA(ar, ma, lag_max):\n",
    "  \n",
    "    p = len(ar) \n",
    "    q = len(ma)\n",
    "    m = int(lag_max)\n",
    "    phi = float(ar) \n",
    "    theta = float(ma)\n",
    "\n",
    "\n",
    "    if(m <= 0 or m == NA_INTEGER):\n",
    "        error(_(\"invalid value of lag.max\"))\n",
    "\n",
    "    else:    \n",
    "        PROTECT(res = allocVector(REALSXP, m))\n",
    "        psi = REAL(res)\n",
    "        for(i = 0; i < m; i++) {\n",
    "        tmp = (i < q) ? theta[i] : 0.0\n",
    "        for(j = 0; j < min(i+1, p); j++)\n",
    "            tmp += phi[j] * ((i-j-1 >= 0) ? psi[i-j-1] : 1.0)\n",
    "        psi[i] = tmp\n",
    "        }\n",
    "        UNPROTECT(1)\n",
    "        return res\n"
   ]
  }
 ],
 "metadata": {
  "kernelspec": {
   "display_name": "Python 3.7.7",
   "language": "python",
   "name": "python3"
  },
  "language_info": {
   "codemirror_mode": {
    "name": "ipython",
    "version": 3
   },
   "file_extension": ".py",
   "mimetype": "text/x-python",
   "name": "python",
   "nbconvert_exporter": "python",
   "pygments_lexer": "ipython3",
   "version": "3.7.7"
  },
  "orig_nbformat": 4,
  "vscode": {
   "interpreter": {
    "hash": "4522dcaa453d719a281551e00332217a79844fddb7475a63a7647ce33eed036a"
   }
  }
 },
 "nbformat": 4,
 "nbformat_minor": 2
}
