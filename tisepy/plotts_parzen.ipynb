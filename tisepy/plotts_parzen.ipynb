{
 "cells": [
  {
   "cell_type": "code",
   "execution_count": null,
   "metadata": {},
   "outputs": [],
   "source": [
    "# plotts parzen"
   ]
  },
  {
   "cell_type": "code",
   "execution_count": null,
   "metadata": {},
   "outputs": [],
   "source": [
    "function (x, m2 = c(0, 0)) \n",
    "{\n",
    "    numrows <- 2\n",
    "    numcols <- 2\n",
    "    cex.labs <- c(0.8, 0.8, 0.8)\n",
    "    par(mfrow = c(numrows, numcols), mar = c(2.8, 2.5, 2.5, 1))\n",
    "    n = length(x)\n",
    "    t = 1:n\n",
    "    aut = acf(x, lag.max = n - 1, plot = FALSE)$acf\n",
    "    freq = (1:floor(n/2))/n\n",
    "    nf = length(freq)\n",
    "    pgram = rep(0, nf)\n",
    "    for (i in 1:nf) {\n",
    "        cosvector = cos(2 * pi * freq[i] * (1:(n - 1)))\n",
    "        pgram[i] = aut[1] + 2 * sum(aut[-1] * cosvector)\n",
    "    }\n",
    "    db = 10 * log10(pgram)\n",
    "    nf = length(db)\n",
    "    min.per = min(db[1:nf])\n",
    "    plot(freq, db, type = \"n\", xaxt = \"n\", yaxt = \"n\", cex = 0.8, \n",
    "        pch = 16, cex.lab = 0.75, cex.axis = 0.75, lwd = 0.75, \n",
    "        xlab = \"\", ylab = \"\", main = \"Periodogram\", cex.main = 1.2)\n",
    "    axis(side = 1, cex.axis = 1, mgp = c(3, 0.15, 0), tcl = -0.3)\n",
    "    axis(side = 2, las = 1, cex.axis = 1, mgp = c(3, 0.4, 0), \n",
    "        tcl = -0.3)\n",
    "    mtext(side = c(1, 2, 1), cex = cex.labs, text = c(\"Frequency\", \n",
    "        \"dB\", \"\"), line = c(1.5, 1.3, 2.1))\n",
    "    for (i in 1:nf) {\n",
    "        segments(freq[i], min.per, freq[i], db[i])\n",
    "    }\n",
    "    for (ii in 1:3) {\n",
    "        if (ii == 1) {\n",
    "            m = floor(2 * sqrt(n))\n",
    "        }\n",
    "        else {\n",
    "            ii1 = ii - 1\n",
    "            m = m2[ii1]\n",
    "        }\n",
    "        if (m > 0) {\n",
    "            pzgram = rep(0, nf)\n",
    "            for (i in (1:nf)) {\n",
    "                cosvector = cos(2 * pi * freq[i] * (1:(n - 1)))\n",
    "                weight = c(c(1 - 6 * ((0:floor(m/2))/m)^2 + 6 * \n",
    "                  ((0:floor(m/2))/m)^3), c(2 * (1 - ((floor(m/2) + \n",
    "                  1):m)/m)^3), rep(0, n - m - 1))\n",
    "                pzgram[i] = aut[1] * weight[1] + 2 * sum(aut[-1] * \n",
    "                  weight[-1] * cosvector)\n",
    "            }\n",
    "            dbz = 10 * log10(pzgram)\n",
    "            plot(freq, dbz, type = \"l\", xaxt = \"n\", yaxt = \"n\", \n",
    "                cex = 0.8, pch = 16, cex.lab = 0.75, cex.axis = 0.75, \n",
    "                lwd = 0.75, xlab = \"\", ylab = \"\", main = \"\")\n",
    "            title(main = paste(\"Parzen Window Truncation point: M =\", \n",
    "                m), cex.main = 1.2)\n",
    "            axis(side = 1, cex.axis = 1, mgp = c(3, 0.15, 0), \n",
    "                tcl = -0.3)\n",
    "            axis(side = 2, las = 1, cex.axis = 1, mgp = c(3, \n",
    "                0.4, 0), tcl = -0.3)\n",
    "            mtext(side = c(1, 2, 1), cex = cex.labs, text = c(\"Frequency\", \n",
    "                \"dB\", \"\"), line = c(1.5, 1.3, 2.1))\n",
    "        }\n",
    "        if (ii == 1) {\n",
    "            dbz = dbz\n",
    "        }\n",
    "        if (ii == 2) {\n",
    "            dbz1 = dbz\n",
    "        }\n",
    "        if (ii == 3) {\n",
    "            dbz2 = dbz\n",
    "        }\n",
    "    }\n",
    "    out1 = list(freq = freq, db = db, dbz = dbz, dbz1 = dbz1, \n",
    "        dbz2 = dbz2)\n",
    "    return(out1)\n",
    "}"
   ]
  }
 ],
 "metadata": {
  "kernelspec": {
   "display_name": "Python 3.7.7",
   "language": "python",
   "name": "python3"
  },
  "language_info": {
   "name": "python",
   "version": "3.7.7"
  },
  "orig_nbformat": 4,
  "vscode": {
   "interpreter": {
    "hash": "4522dcaa453d719a281551e00332217a79844fddb7475a63a7647ce33eed036a"
   }
  }
 },
 "nbformat": 4,
 "nbformat_minor": 2
}
