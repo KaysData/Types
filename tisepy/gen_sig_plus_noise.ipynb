{
 "cells": [
  {
   "cell_type": "code",
   "execution_count": null,
   "metadata": {},
   "outputs": [],
   "source": [
    "# gen sig plus noise"
   ]
  },
  {
   "cell_type": "code",
   "execution_count": null,
   "metadata": {},
   "outputs": [],
   "source": [
    "function (n, b0 = 0, b1 = 0, coef = c(0, 0), freq = c(0, 0), \n",
    "    psi = c(0, 0), phi = 0, vara = 1, plot = \"TRUE\", sn = 0) \n",
    "{\n",
    "    if (sn > 0) {\n",
    "        set.seed(sn)\n",
    "    }\n",
    "    std = sqrt(vara)\n",
    "    t = 1:n\n",
    "    zt = gen.arma.wge(n = n, phi = phi, theta = 0, vara = vara, \n",
    "        sn = sn)\n",
    "    x = b0 + b1 * t + coef[1] * cos(2 * pi * freq[1] * t + psi[1]) + \n",
    "        coef[2] * cos(2 * pi * freq[2] * t + psi[2]) + zt\n",
    "    numrows <- 1\n",
    "    numcols <- 1\n",
    "    fig.width <- 5.5\n",
    "    fig.height <- 4.5\n",
    "    cex.labs <- c(0.8, 0.7, 0.9)\n",
    "    par(mfrow = c(numrows, numcols), mar = c(3.8, 2.5, 1, 1))\n",
    "    if (plot == \"TRUE\") {\n",
    "        plot(t, x, type = \"l\")\n",
    "    }\n",
    "    return(x)\n",
    "}"
   ]
  },
  {
   "cell_type": "code",
   "execution_count": null,
   "metadata": {},
   "outputs": [],
   "source": []
  }
 ],
 "metadata": {
  "kernelspec": {
   "display_name": "Python 3.7.7",
   "language": "python",
   "name": "python3"
  },
  "language_info": {
   "codemirror_mode": {
    "name": "ipython",
    "version": 3
   },
   "file_extension": ".py",
   "mimetype": "text/x-python",
   "name": "python",
   "nbconvert_exporter": "python",
   "pygments_lexer": "ipython3",
   "version": "3.7.7"
  },
  "orig_nbformat": 4,
  "vscode": {
   "interpreter": {
    "hash": "4522dcaa453d719a281551e00332217a79844fddb7475a63a7647ce33eed036a"
   }
  }
 },
 "nbformat": 4,
 "nbformat_minor": 2
}
