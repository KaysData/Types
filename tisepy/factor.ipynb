{
 "cells": [
  {
   "cell_type": "code",
   "execution_count": null,
   "metadata": {},
   "outputs": [],
   "source": [
    "# factor "
   ]
  },
  {
   "cell_type": "code",
   "execution_count": 1,
   "metadata": {},
   "outputs": [
    {
     "ename": "SyntaxError",
     "evalue": "invalid syntax (<ipython-input-1-f2d4e383759e>, line 2)",
     "output_type": "error",
     "traceback": [
      "\u001b[0;36m  File \u001b[0;32m\"<ipython-input-1-f2d4e383759e>\"\u001b[0;36m, line \u001b[0;32m2\u001b[0m\n\u001b[0;31m    ordered = is.ordered(x), nmax = NA)\u001b[0m\n\u001b[0m               ^\u001b[0m\n\u001b[0;31mSyntaxError\u001b[0m\u001b[0;31m:\u001b[0m invalid syntax\n"
     ]
    }
   ],
   "source": [
    "function (x = character(), levels, labels = levels, exclude = NA, \n",
    "    ordered = is.ordered(x), nmax = NA) \n",
    "{\n",
    "    if (is.null(x)) \n",
    "        x <- character()\n",
    "    nx <- names(x)\n",
    "    if (missing(levels)) {\n",
    "        y <- unique(x, nmax = nmax)\n",
    "        ind <- order(y)\n",
    "        levels <- unique(as.character(y)[ind])\n",
    "    }\n",
    "    force(ordered)\n",
    "    if (!is.character(x)) \n",
    "        x <- as.character(x)\n",
    "    levels <- levels[is.na(match(levels, exclude))]\n",
    "    f <- match(x, levels)\n",
    "    if (!is.null(nx)) \n",
    "        names(f) <- nx\n",
    "    if (missing(labels)) {\n",
    "        levels(f) <- as.character(levels)\n",
    "    }\n",
    "    else {\n",
    "        nlab <- length(labels)\n",
    "        if (nlab == length(levels)) {\n",
    "            nlevs <- unique(xlevs <- as.character(labels))\n",
    "            at <- attributes(f)\n",
    "            at$levels <- nlevs\n",
    "            f <- match(xlevs, nlevs)[f]\n",
    "            attributes(f) <- at\n",
    "        }\n",
    "        else if (nlab == 1L) \n",
    "            levels(f) <- paste0(labels, seq_along(levels))\n",
    "        else stop(gettextf(\"invalid 'labels'; length %d should be 1 or %d\", \n",
    "            nlab, length(levels)), domain = NA)\n",
    "    }\n",
    "    class(f) <- c(if (ordered) \"ordered\", \"factor\")\n",
    "    f\n",
    "}"
   ]
  },
  {
   "cell_type": "code",
   "execution_count": null,
   "metadata": {},
   "outputs": [],
   "source": []
  }
 ],
 "metadata": {
  "kernelspec": {
   "display_name": "Python 3.7.7",
   "language": "python",
   "name": "python3"
  },
  "language_info": {
   "codemirror_mode": {
    "name": "ipython",
    "version": 3
   },
   "file_extension": ".py",
   "mimetype": "text/x-python",
   "name": "python",
   "nbconvert_exporter": "python",
   "pygments_lexer": "ipython3",
   "version": "3.7.7"
  },
  "orig_nbformat": 4,
  "vscode": {
   "interpreter": {
    "hash": "4522dcaa453d719a281551e00332217a79844fddb7475a63a7647ce33eed036a"
   }
  }
 },
 "nbformat": 4,
 "nbformat_minor": 2
}
