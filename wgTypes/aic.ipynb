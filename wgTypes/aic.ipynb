{
 "cells": [
  {
   "cell_type": "code",
   "execution_count": null,
   "metadata": {},
   "outputs": [],
   "source": [
    "#AIC ARMA: aic.wge"
   ]
  },
  {
   "cell_type": "code",
   "execution_count": null,
   "metadata": {},
   "outputs": [],
   "source": [
    "import numpy as np \n",
    "import math"
   ]
  },
  {
   "cell_type": "code",
   "execution_count": null,
   "metadata": {},
   "outputs": [],
   "source": [
    "def aic(x, p = list(range(0,6)), q = list(range(0,3)), type = \"aic\"):\n",
    "    x = x - math.mean(x)\n",
    "    aic = 99999\n",
    "    bic = 99999\n",
    "    aicc = 99999\n",
    "    for j in p:\n",
    "        for k in q: \n",
    "            #w = getOption(\"warn\")\n",
    "            #options(warn = -1)\n",
    "            b = arima(x, [j, 0, k]) #try(arima(x, c(j, 0, k)), silent = TRUE)\n",
    "            #options(warn = w)\n",
    "            if (type(b) is list): #(is.list(b) == TRUE) {\n",
    "                c = [b[coef]]#[coef(b)]\n",
    "                if (j == 0):\n",
    "                    phi = 0\n",
    "                else:\n",
    "                    phi = c[1:j]\n",
    "                if (k == 0):\n",
    "                    theta = 0\n",
    "                else:\n",
    "                    theta = -c[(j + 1):(j + k)]\n",
    "                res = backcast.wge(x, phi = phi, theta = theta, n.back = 50)\n",
    "                avar = 0\n",
    "                n = len(x)\n",
    "                for i in range(1,n+1):  \n",
    "                    avar = avar + res[i] * res[i]\n",
    "                \n",
    "                avar = avar/n\n",
    "                tempaic = math.log(avar) + 2 * (j + k + 1)/n\n",
    "                tempbic = math.log(avar) + (j + k + 1) * math.log(n)/n\n",
    "                tempaicc = math.log(avar) + (n + j + k + 1)/(n - j - k - \n",
    "                    3)\n",
    "                if (type == \"aic\"):\n",
    "                    if (tempaic < aic):\n",
    "                        aic = tempaic\n",
    "                        j_aic = j\n",
    "                        k_aic = k\n",
    "                        phi_aic = phi\n",
    "                        theta_aic = theta\n",
    "                        avar_aic = avar\n",
    "                \n",
    "                if (type == \"aicc\"):\n",
    "                    if (tempaicc < aicc):\n",
    "                        aicc = tempaicc\n",
    "                        j_aicc = j\n",
    "                        k_aicc = k\n",
    "                        phi_aicc = phi\n",
    "                        theta_aicc = theta\n",
    "                        avar_aicc = avar\n",
    "                    \n",
    "                if (type == \"bic\"):\n",
    "                    if (tempbic < bic):\n",
    "                        bic = tempbic\n",
    "                        j_bic = j\n",
    "                        k_bic = k\n",
    "                        phi_bic = phi\n",
    "                        theta_bic = theta\n",
    "                        avar_bic = avar\n",
    "                    \n",
    "            \n",
    "    if (type == \"aic\"):\n",
    "        out1 = list(type = type, value = aic, p = j_aic, q = k_aic, \n",
    "            phi = phi_aic, theta = theta_aic, vara = avar_aic)\n",
    "        return(out1)\n",
    "\n",
    "    if (type == \"aicc\"):\n",
    "        out1 = list(type = type, value = aicc, p = j_aicc, q = k_aicc, \n",
    "            phi = phi_aicc, theta = theta_aicc, vara = avar_aicc)\n",
    "        return(out1)\n",
    "\n",
    "    if (type == \"bic\"):\n",
    "        out1 = list(type = type, value = bic, p = j_bic, q = k_bic, \n",
    "            phi = phi_bic, theta = theta_bic, vara = avar_bic)\n",
    "        return(out1)\n"
   ]
  }
 ],
 "metadata": {
  "kernelspec": {
   "display_name": "Python 3.9.13 ('base')",
   "language": "python",
   "name": "python3"
  },
  "language_info": {
   "codemirror_mode": {
    "name": "ipython",
    "version": 3
   },
   "file_extension": ".py",
   "mimetype": "text/x-python",
   "name": "python",
   "nbconvert_exporter": "python",
   "pygments_lexer": "ipython3",
   "version": "3.9.13"
  },
  "orig_nbformat": 4,
  "vscode": {
   "interpreter": {
    "hash": "e852a001bfa1964e00d5e0e123b69d8faef2a2311f18fa78a413f9a89e0885c6"
   }
  }
 },
 "nbformat": 4,
 "nbformat_minor": 2
}
