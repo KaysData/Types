{
 "cells": [
  {
   "cell_type": "code",
   "execution_count": null,
   "metadata": {},
   "outputs": [],
   "source": [
    "# AIC5"
   ]
  },
  {
   "cell_type": "code",
   "execution_count": 2,
   "metadata": {},
   "outputs": [],
   "source": [
    "import numpy as np\n",
    "import copy\n",
    "import pandas as pd"
   ]
  },
  {
   "cell_type": "code",
   "execution_count": null,
   "metadata": {},
   "outputs": [],
   "source": [
    "def aic5 (x, p = list(range(0,6)), q = list(range(0,3)), type = \"aic\"):\n",
    "    pmax = max(p)\n",
    "    pmin = min(p)\n",
    "    qmax = max(q)\n",
    "    qmin = min(q)\n",
    "    nr = (pmax - pmin + 1) * (qmax - qmin + 1)\n",
    "    aval = np.zeros((nr,3)) #matrix(0, nrow = nr, ncol = 3) #CHECK SYNTAX AND TRANSLATION\n",
    "    mytype = type\n",
    "    print(\"---------WORKING... PLEASE WAIT...\", \"\\n\")\n",
    "    print(\"\\n\")\n",
    "    print(\"\\n\")\n",
    "    indx = 0\n",
    "    for ip in range(pmin,pmax+1): \n",
    "        for iq in range(qmin,qmax+1): \n",
    "            indx = indx + 1\n",
    "            try:\n",
    "                ret = aic(x, p = ip, q = iq, type_ = mytype)\n",
    "            except: \n",
    "                pass\n",
    "            #ret = try(aic.wge(x, p = ip, q = iq, type = mytype), \n",
    "            #    silent = TRUE)\n",
    "\n",
    "            if (ret == list): \n",
    "                aval[indx, ] = [ret[\"p\"], ret[\"q\"], ret[\"value\"]]\n",
    "            else:\n",
    "                error_content = [\"Error in aic calculation at\", ip, iq, \"\\n\"]\n",
    "                error_report = \" \".join(error_content)\n",
    "                print(error_report)\n",
    "                aval[indx, ] = [ip, iq, 999999]\n",
    "        \n",
    "    \n",
    "    dat = copy.deepcopy(aval) #data.frame(aval)\n",
    "    sorted_aval = dat[dat[:,2].argsort()] #sorted_aval = dat[order(dat[, 3], decreasing = F), ]\n",
    "    aic5_report = \" \".join(\"Five Smallest Values of \", mytype, \"\\n\")\n",
    "    print(aic5_report)\n",
    "    aic5_df = pd.DataFrame(sorted_aval, columns=[\"p\", \"q\", mytype])\n",
    "    print(aic5_df.iloc[0:6])\n",
    "    return(aic5_df.iloc[0:6]) #return(sorted_aval[1:5, , ])\n"
   ]
  },
  {
   "cell_type": "code",
   "execution_count": null,
   "metadata": {},
   "outputs": [],
   "source": []
  }
 ],
 "metadata": {
  "kernelspec": {
   "display_name": "Python 3.7.7",
   "language": "python",
   "name": "python3"
  },
  "language_info": {
   "codemirror_mode": {
    "name": "ipython",
    "version": 3
   },
   "file_extension": ".py",
   "mimetype": "text/x-python",
   "name": "python",
   "nbconvert_exporter": "python",
   "pygments_lexer": "ipython3",
   "version": "3.7.7"
  },
  "orig_nbformat": 4,
  "vscode": {
   "interpreter": {
    "hash": "4522dcaa453d719a281551e00332217a79844fddb7475a63a7647ce33eed036a"
   }
  }
 },
 "nbformat": 4,
 "nbformat_minor": 2
}
