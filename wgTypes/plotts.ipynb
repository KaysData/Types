{
 "cells": [
  {
   "cell_type": "code",
   "execution_count": null,
   "metadata": {},
   "outputs": [],
   "source": [
    "#plotts"
   ]
  },
  {
   "cell_type": "code",
   "execution_count": null,
   "metadata": {},
   "outputs": [],
   "source": [
    "function (x) \n",
    "{\n",
    "    cex.labs <- c(0.9, 0.8, 0.9)\n",
    "    numrows <- 1\n",
    "    numcols <- 1\n",
    "    par(mfrow = c(numrows, numcols), mar = c(3.8, 2.5, 1, 1))\n",
    "    n = length(x)\n",
    "    t = 1:n\n",
    "    if (n <= 200) {\n",
    "        plot(t, x, type = \"o\", xaxt = \"n\", yaxt = \"n\", cex = 0.5, \n",
    "            pch = 16, cex.lab = 0.75, cex.axis = 0.75, lwd = 0.75, \n",
    "            xlab = \"\", ylab = \"\")\n",
    "    }\n",
    "    if (n > 200) {\n",
    "        plot(t, x, type = \"l\", xaxt = \"n\", yaxt = \"n\", cex = 0.5, \n",
    "            pch = 16, cex.lab = 0.75, cex.axis = 0.75, lwd = 0.75, \n",
    "            xlab = \"\", ylab = \"\")\n",
    "    }\n",
    "    axis(side = 1, cex.axis = 0.9, mgp = c(3, 0.15, 0), tcl = -0.3)\n",
    "    axis(side = 2, las = 1, cex.axis = 0.9, mgp = c(3, 0.4, 0), \n",
    "        tcl = -0.3)\n",
    "    mtext(side = c(1, 2, 1), cex = cex.labs, text = c(\"Time\", \n",
    "        \"\", \"Realization\"), line = c(1, 1.1, 2.1))\n",
    "}"
   ]
  }
 ],
 "metadata": {
  "kernelspec": {
   "display_name": "Python 3.7.7",
   "language": "python",
   "name": "python3"
  },
  "language_info": {
   "codemirror_mode": {
    "name": "ipython",
    "version": 3
   },
   "file_extension": ".py",
   "mimetype": "text/x-python",
   "name": "python",
   "nbconvert_exporter": "python",
   "pygments_lexer": "ipython3",
   "version": "3.7.7"
  },
  "orig_nbformat": 4,
  "vscode": {
   "interpreter": {
    "hash": "4522dcaa453d719a281551e00332217a79844fddb7475a63a7647ce33eed036a"
   }
  }
 },
 "nbformat": 4,
 "nbformat_minor": 2
}
