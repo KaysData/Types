{
 "cells": [
  {
   "cell_type": "code",
   "execution_count": null,
   "metadata": {},
   "outputs": [],
   "source": [
    "# est.ar"
   ]
  },
  {
   "cell_type": "code",
   "execution_count": null,
   "metadata": {},
   "outputs": [],
   "source": [
    "function (x, p = 2, factor = TRUE, type = \"mle\") \n",
    "{\n",
    "    method = type\n",
    "    x = x - mean(x)\n",
    "    if (method == \"burg\") {\n",
    "        arest = ar.burg(x, order.max = p, aic = FALSE)\n",
    "        phi.est = arest$ar\n",
    "    }\n",
    "    if (method == \"yw\") {\n",
    "        arest = ar.yw(x, order.max = p, aic = FALSE)\n",
    "        phi.est = arest$ar\n",
    "    }\n",
    "    if (method == \"mle\") {\n",
    "        arest = est.arma.wge(x, p = p, q = 0, factor = TRUE)\n",
    "        phi.est = arest$phi\n",
    "    }\n",
    "    if (factor == \"TRUE\") {\n",
    "        factor.wge(phi = phi.est)\n",
    "    }\n",
    "    res = backcast.wge(x, phi = phi.est, n.back = 50)\n",
    "    avar = 0\n",
    "    n = length(x)\n",
    "    for (i in 1:n) {\n",
    "        avar = avar + res[i] * res[i]\n",
    "    }\n",
    "    avar = avar/n\n",
    "    phi = phi.est\n",
    "    aic = log(avar) + 2 * (p + 1)/n\n",
    "    bic = log(avar) + (p + 1) * log(n)/n\n",
    "    aicc = log(avar) + (n + p + 1)/(n - p - 3)\n",
    "    out1 = list(phi = phi, res = res, avar = avar, aic = aic, \n",
    "        aicc = aicc, bic = bic)\n",
    "    return(out1)\n",
    "}"
   ]
  }
 ],
 "metadata": {
  "kernelspec": {
   "display_name": "Python 3.7.7",
   "language": "python",
   "name": "python3"
  },
  "language_info": {
   "name": "python",
   "version": "3.7.7"
  },
  "orig_nbformat": 4,
  "vscode": {
   "interpreter": {
    "hash": "4522dcaa453d719a281551e00332217a79844fddb7475a63a7647ce33eed036a"
   }
  }
 },
 "nbformat": 4,
 "nbformat_minor": 2
}
