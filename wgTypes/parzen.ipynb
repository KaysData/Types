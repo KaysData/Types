{
 "cells": [
  {
   "cell_type": "code",
   "execution_count": null,
   "metadata": {},
   "outputs": [],
   "source": [
    "# parzen"
   ]
  },
  {
   "cell_type": "code",
   "execution_count": null,
   "metadata": {},
   "outputs": [],
   "source": [
    "function (x, dbcalc = \"TRUE\", trunc = 0, plot = \"TRUE\") \n",
    "{\n",
    "    cex.labs <- c(1, 1, 1)\n",
    "    n = length(x)\n",
    "    t = 1:n\n",
    "    aut = acf(x, lag.max = n - 1, plot = FALSE)$acf\n",
    "    freq = (1:floor(n/2))/n\n",
    "    nf = length(freq)\n",
    "    pgram = rep(0, nf)\n",
    "    for (i in 1:nf) {\n",
    "        cosvector = cos(2 * pi * freq[i] * (1:(n - 1)))\n",
    "        pgram[i] = aut[1] + 2 * sum(aut[-1] * cosvector)\n",
    "    }\n",
    "    if (trunc == 0) {\n",
    "        M = floor(2 * sqrt(n))\n",
    "    }\n",
    "    else {\n",
    "        M = trunc\n",
    "    }\n",
    "    if (M > 0) {\n",
    "        pzgram = rep(0, nf)\n",
    "        for (i in (1:nf)) {\n",
    "            cosvector = cos(2 * pi * freq[i] * (1:(n - 1)))\n",
    "            weight = c(c(1 - 6 * ((0:floor(M/2))/M)^2 + 6 * ((0:floor(M/2))/M)^3), \n",
    "                c(2 * (1 - ((floor(M/2) + 1):M)/M)^3), rep(0, \n",
    "                  n - M - 1))\n",
    "            pzgram[i] = aut[1] * weight[1] + 2 * sum(aut[-1] * \n",
    "                weight[-1] * cosvector)\n",
    "        }\n",
    "        vlabel = \"dB\"\n",
    "        if (dbcalc == \"FALSE\") {\n",
    "            vlabel = \"Spectral Estimate (non-log)\"\n",
    "        }\n",
    "        if (dbcalc == \"TRUE\") {\n",
    "            pzgram = 10 * log10(pzgram)\n",
    "        }\n",
    "        if (plot == \"TRUE\") {\n",
    "            plot(freq, pzgram, type = \"l\", xaxt = \"n\", yaxt = \"n\", \n",
    "                pch = 16, cex.lab = 1, cex.axis = 1, lwd = 0.75, \n",
    "                xlab = \"\", ylab = \"\", main = paste(\"Parzen Window Truncation point: M =\", \n",
    "                  M))\n",
    "            axis(side = 1, cex.axis = 1, mgp = c(3, 0.15, 0), \n",
    "                tcl = -0.3)\n",
    "            axis(side = 2, las = 1, cex.axis = 1, mgp = c(3, \n",
    "                0.4, 0), tcl = -0.3)\n",
    "            mtext(side = c(1, 2, 1), cex = cex.labs, text = c(\"Frequency\", \n",
    "                vlabel, \"\"), line = c(1.5, 1.3, 2.1))\n",
    "        }\n",
    "    }\n",
    "    out1 = list(freq = freq, pzgram = pzgram)\n",
    "    return(out1)\n",
    "}"
   ]
  }
 ],
 "metadata": {
  "kernelspec": {
   "display_name": "Python 3.7.7",
   "language": "python",
   "name": "python3"
  },
  "language_info": {
   "name": "python",
   "version": "3.7.7"
  },
  "orig_nbformat": 4,
  "vscode": {
   "interpreter": {
    "hash": "4522dcaa453d719a281551e00332217a79844fddb7475a63a7647ce33eed036a"
   }
  }
 },
 "nbformat": 4,
 "nbformat_minor": 2
}
