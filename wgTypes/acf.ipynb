{
 "cells": [
  {
   "cell_type": "code",
   "execution_count": null,
   "metadata": {},
   "outputs": [],
   "source": [
    "# ACF"
   ]
  },
  {
   "cell_type": "code",
   "execution_count": null,
   "metadata": {},
   "outputs": [],
   "source": [
    "match.arg\n",
    "match.call\n",
    "parent.frame\n",
    "quote \n",
    "stats::pacf\n"
   ]
  },
  {
   "cell_type": "code",
   "execution_count": null,
   "metadata": {},
   "outputs": [],
   "source": [
    "\n",
    "def acf (x, lag_max = None, type = [\"correlation\", \"covariance\", \"partial\"], plot = True, na_action = na_fail, demean = True):\n",
    "\n",
    "    type = match.arg(type)\n",
    "\n",
    "    if (type == \"partial\"):\n",
    "        m = match.call()\n",
    "        m[[1L]] = quote(stats::pacf)\n",
    "        m$type = NULL\n",
    "        return(eval(m, parent.frame()))\n",
    "    \n",
    "    series = deparse1(substitute(x))\n",
    "    x = na_action(as_ts(x))\n",
    "    x.freq = frequency(x)\n",
    "    x = as_matrix(x)\n",
    "\n",
    "    if (not is.numeric(x)):\n",
    "        stop(\"'x' must be numeric\")\n",
    "    sampleT = as.integer(nrow(x))\n",
    "    nser = as.integer(ncol(x))\n",
    "\n",
    "    if (is_na(sampleT) or is_na(nser)):\n",
    "        stop(\"'sampleT' and 'nser' must be integer\")\n",
    "\n",
    "    if (is_null(lag_max)):\n",
    "        lag_max = floor(10 * (log10(sampleT) - log10(nser)))\n",
    "\n",
    "    lag_max = int(min(lag_max, sampleT - 1L))\n",
    "\n",
    "    if (is_na(lag_max) or lag_max < 0):\n",
    "        stop(\"'lag_max' must be at least 0\")\n",
    "\n",
    "    if (demean): \n",
    "        x = sweep(x, 2, colMeans(x, na_rm = TRUE), check_margin = FALSE)\n",
    "\n",
    "    lag = matrix(1, nser, nser)\n",
    "    lag[lower.tri(lag)] = -1\n",
    "    acf = .Call(C_acf, x, lag_max, type == \"correlation\")\n",
    "    lag = outer(0:lag_max, lag/x.freq)\n",
    "    acf.out = structure(list(acf = acf, type = type, n_used = sampleT, \n",
    "        lag = lag, series = series, snames = colnames(x)), _class = \"acf\")\n",
    "\n",
    "    if (plot):\n",
    "        plot.acf(acf.out, ...)\n",
    "        invisible(acf.out)\n",
    "\n",
    "    else acf.out"
   ]
  }
 ],
 "metadata": {
  "kernelspec": {
   "display_name": "Python 3",
   "language": "python",
   "name": "python3"
  },
  "language_info": {
   "name": "python",
   "version": "3.7.7"
  },
  "orig_nbformat": 4,
  "vscode": {
   "interpreter": {
    "hash": "4522dcaa453d719a281551e00332217a79844fddb7475a63a7647ce33eed036a"
   }
  }
 },
 "nbformat": 4,
 "nbformat_minor": 2
}
