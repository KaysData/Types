{
 "cells": [
  {
   "cell_type": "code",
   "execution_count": 1,
   "metadata": {},
   "outputs": [],
   "source": [
    "# factor comp"
   ]
  },
  {
   "cell_type": "code",
   "execution_count": null,
   "metadata": {},
   "outputs": [],
   "source": [
    "function (x, aic = FALSE, p, ncomp) \n",
    "{\n",
    "    n = length(x)\n",
    "    phi.mle = ar.mle(x, order.max = p, aic = FALSE)\n",
    "    phi = phi.mle$ar\n",
    "    phi\n",
    "    factor.wge(phi)\n",
    "    mphi = -phi\n",
    "    one = c(1)\n",
    "    coef = c(one, mphi)\n",
    "    root1 = polyroot(coef)\n",
    "    roota = abs(root1)\n",
    "    perm = sort(roota, index.return = TRUE)\n",
    "    nr = length(root1)\n",
    "    roots = rep(0, nr)\n",
    "    for (i in 1:nr) {\n",
    "        ii = perm$ix[i]\n",
    "        roots[i] = root1[ii]\n",
    "    }\n",
    "    root1 = roots\n",
    "    nfactors <- 0.5 * (length(root1) + sum(abs(Im(root1)) <= \n",
    "        10^(-5)))\n",
    "    if (ncomp > nfactors) {\n",
    "        ncomp = nfactors\n",
    "    }\n",
    "    nf1 = nfactors + 1\n",
    "    maxjcomp = rep(0, nf1)\n",
    "    fac = matrix(0, nr, nr)\n",
    "    for (i in 1:nr) {\n",
    "        fac[i, ] = (1/root1)^(nr - i)\n",
    "    }\n",
    "    fac\n",
    "    facinv = solve(fac)\n",
    "    coefs.fac = matrix(0, nfactors, p)\n",
    "    j = 0\n",
    "    for (i in 1:nfactors) {\n",
    "        if (abs(Im(root1[j + 1])) <= 10^(-5)) {\n",
    "            coefs.fac[i, ] = facinv[j + 1, ]\n",
    "            jump = 1\n",
    "        }\n",
    "        else {\n",
    "            coefs.fac[i, ] = facinv[j + 1, ] + facinv[j + 2, \n",
    "                ]\n",
    "            jump = 2\n",
    "        }\n",
    "        j = j + jump\n",
    "    }\n",
    "    x.comp = matrix(0, ncomp, n)\n",
    "    for (jcomp in 1:ncomp) {\n",
    "        for (t in p:n) {\n",
    "            for (j in 1:p) {\n",
    "                x.comp[jcomp, t] = x.comp[jcomp, t] + coefs.fac[jcomp, \n",
    "                  j] * x[t - p + j]\n",
    "            }\n",
    "        }\n",
    "    }\n",
    "    x.comp = Re(x.comp)\n",
    "    maxcomp = max(x.comp)\n",
    "    mincomp = min(x.comp)\n",
    "    maxx = max(x)\n",
    "    minx = min(x)\n",
    "    max.tot = max(maxx, maxcomp)\n",
    "    min.tot = min(minx, mincomp)\n",
    "    ncomp1 = ncomp + 1\n",
    "    par(mfrow = c(ncomp1, 1), mar = c(3.8, 2.5, 1, 1))\n",
    "    t = 1:n\n",
    "    plot(t, x, type = \"l\", ylim = c(min.tot, max.tot), main = \"Realization\", \n",
    "        xlab = \"\", ylab = \"\")\n",
    "    t = p:n\n",
    "    for (j in 1:ncomp) {\n",
    "        x.c = x.comp[j, ]\n",
    "        plot(t, x.c[p:n], type = \"l\", ylim = c(min.tot, max.tot), \n",
    "            main = j, xlab = \"\", ylab = \"\")\n",
    "    }\n",
    "    out1 = list(ncomp = ncomp, x.comp = x.comp)\n",
    "    return(out1)\n",
    "}"
   ]
  }
 ],
 "metadata": {
  "kernelspec": {
   "display_name": "Python 3.7.7",
   "language": "python",
   "name": "python3"
  },
  "language_info": {
   "codemirror_mode": {
    "name": "ipython",
    "version": 3
   },
   "file_extension": ".py",
   "mimetype": "text/x-python",
   "name": "python",
   "nbconvert_exporter": "python",
   "pygments_lexer": "ipython3",
   "version": "3.7.7"
  },
  "orig_nbformat": 4,
  "vscode": {
   "interpreter": {
    "hash": "4522dcaa453d719a281551e00332217a79844fddb7475a63a7647ce33eed036a"
   }
  }
 },
 "nbformat": 4,
 "nbformat_minor": 2
}
