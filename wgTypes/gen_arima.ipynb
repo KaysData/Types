{
 "cells": [
  {
   "cell_type": "code",
   "execution_count": null,
   "metadata": {},
   "outputs": [],
   "source": [
    "#gen arima"
   ]
  },
  {
   "cell_type": "code",
   "execution_count": null,
   "metadata": {},
   "outputs": [],
   "source": [
    "function (n, phi = 0, theta = 0, d, vara = 1, plot = \"TRUE\", \n",
    "    sn = 0) \n",
    "{\n",
    "    if (sn > 0) {\n",
    "        set.seed(sn)\n",
    "    }\n",
    "    cex.labs <- c(0.9, 0.8, 0.9)\n",
    "    numrows <- 1\n",
    "    numcols <- 1\n",
    "    par(mfrow = c(numrows, numcols), mar = c(3.8, 2.5, 1, 1))\n",
    "    ar = phi\n",
    "    ma = -theta\n",
    "    p = length(ar)\n",
    "    q = length(ma)\n",
    "    sd = sqrt(vara)\n",
    "    if (all(ar == 0)) {\n",
    "        ar = NA\n",
    "        p = 0\n",
    "    }\n",
    "    if (all(ma == 0)) {\n",
    "        ma = NA\n",
    "        q = 0\n",
    "    }\n",
    "    d1 = 1 + d\n",
    "    nd = n + d\n",
    "    if ((p > 0) & (q > 0)) {\n",
    "        tsdata = arima.sim(n, model = list(order = c(p, d, q), \n",
    "            ar = ar, ma = ma), sd = sd)\n",
    "    }\n",
    "    if ((p == 0) & (q > 0)) {\n",
    "        tsdata = arima.sim(n, model = list(order = c(p, d, q), \n",
    "            ma = ma), sd = sd)\n",
    "    }\n",
    "    if ((p > 0) & (q == 0)) {\n",
    "        tsdata = arima.sim(n, model = list(order = c(p, d, q), \n",
    "            ar = ar), sd = sd)\n",
    "    }\n",
    "    if ((p == 0) & (q == 0)) {\n",
    "        tsdata = arima.sim(n, model = list(order = c(0, d, 0)), \n",
    "            sd = sd)\n",
    "    }\n",
    "    if (plot == \"TRUE\") {\n",
    "        t = 1:n\n",
    "        plot(t, tsdata[d1:nd], type = \"o\", xaxt = \"n\", yaxt = \"n\", \n",
    "            cex = 0.5, pch = 16, cex.lab = 0.75, cex.axis = 0.75, \n",
    "            lwd = 0.75, xlab = \"\", ylab = \"\")\n",
    "        axis(side = 1, cex.axis = 0.9, mgp = c(3, 0.15, 0), tcl = -0.3)\n",
    "        axis(side = 2, las = 1, cex.axis = 0.9, mgp = c(3, 0.4, \n",
    "            0), tcl = -0.3)\n",
    "        mtext(side = c(1, 2, 1), cex = cex.labs, text = c(\"Time\", \n",
    "            \"\", \"Realization\"), line = c(1, 1.1, 2.1))\n",
    "    }\n",
    "    tsdata = as.numeric(tsdata)\n",
    "    return(tsdata)\n",
    "}"
   ]
  }
 ],
 "metadata": {
  "kernelspec": {
   "display_name": "Python 3.7.7",
   "language": "python",
   "name": "python3"
  },
  "language_info": {
   "name": "python",
   "version": "3.7.7"
  },
  "orig_nbformat": 4,
  "vscode": {
   "interpreter": {
    "hash": "4522dcaa453d719a281551e00332217a79844fddb7475a63a7647ce33eed036a"
   }
  }
 },
 "nbformat": 4,
 "nbformat_minor": 2
}
